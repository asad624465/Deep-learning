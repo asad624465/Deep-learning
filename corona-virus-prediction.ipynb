{
 "cells": [
  {
   "cell_type": "code",
   "execution_count": null,
   "id": "4c5d98f3",
   "metadata": {},
   "outputs": [],
   "source": []
  },
  {
   "cell_type": "code",
   "execution_count": 11,
   "id": "419c7943",
   "metadata": {},
   "outputs": [],
   "source": [
    "import pandas as pd\n",
    "import numpy as np\n",
    "from sklearn.model_selection import train_test_split\n",
    "from sklearn.metrics import classification_report, confusion_matrix\n",
    "from sklearn.svm import SVC\n",
    "from sklearn import svm\n",
    "import seaborn as sns\n",
    "from sklearn.ensemble import RandomForestRegressor\n",
    "from sklearn.model_selection import train_test_split\n",
    "import matplotlib.pyplot as plt\n",
    "from sklearn.linear_model import LogisticRegression\n",
    "from sklearn import metrics\n",
    "from sklearn.linear_model import LogisticRegression\n",
    "from sklearn.preprocessing import StandardScaler\n",
    "from sklearn.datasets import load_iris\n",
    "from sklearn.tree import DecisionTreeClassifier\n",
    "from sklearn import linear_model\n",
    "from sklearn.ensemble import RandomForestRegressor\n",
    "from sklearn.naive_bayes import GaussianNB\n",
    "from sklearn.neighbors import KNeighborsClassifier\n",
    "\n",
    "data=pd.read_csv(\"F:/university/semester-11/artificial/labreport/covid/Covid_Dataset.csv\")\n",
    "##data.shape\n",
    "##data.isnull().sum()\n",
    "X= data.drop('COVID-19', axis=1)\n",
    "y= data['COVID-19']\n",
    "X_train, X_test, y_train, y_test=train_test_split(X,y, test_size=0.25, random_state=10)\n",
    "\n",
    "model=SVC()\n",
    "svm_fit_result=model.fit(X_train,y_train)"
   ]
  },
  {
   "cell_type": "code",
   "execution_count": 2,
   "id": "dc241685",
   "metadata": {},
   "outputs": [
    {
     "name": "stdout",
     "output_type": "stream",
     "text": [
      "The accuracy of the SVC model: 0.9808682855040471\n",
      "The prediction of the SVC model: [1 1 1 ... 1 1 1]\n"
     ]
    }
   ],
   "source": [
    "print(\"The accuracy of the SVC model:\",model.score(X_test,y_test))\n",
    "print(\"The prediction of the SVC model:\",svm_fit_result.predict(X_test))\n",
    "##this model is SVC"
   ]
  },
  {
   "cell_type": "code",
   "execution_count": 3,
   "id": "aaf8e0de",
   "metadata": {},
   "outputs": [
    {
     "data": {
      "text/plain": [
       "RandomForestRegressor()"
      ]
     },
     "execution_count": 3,
     "metadata": {},
     "output_type": "execute_result"
    }
   ],
   "source": [
    "rfcf=RandomForestRegressor()\n",
    "rfcf.fit(X_train,y_train)"
   ]
  },
  {
   "cell_type": "code",
   "execution_count": 4,
   "id": "459a73d6",
   "metadata": {},
   "outputs": [
    {
     "name": "stdout",
     "output_type": "stream",
     "text": [
      "The accuracy of the Random Forest Classifier: 0.9195567407108431\n",
      "The prediction of the Random Forest Classifier: [1. 1. 1. ... 1. 1. 1.]\n"
     ]
    }
   ],
   "source": [
    "print(\"The accuracy of the Random Forest Classifier:\",rfcf.score(X_test,y_test))\n",
    "print(\"The prediction of the Random Forest Classifier:\",rfcf.predict(X_test))"
   ]
  },
  {
   "cell_type": "code",
   "execution_count": 5,
   "id": "17d8337c",
   "metadata": {},
   "outputs": [
    {
     "name": "stdout",
     "output_type": "stream",
     "text": [
      "The accuracy of the Decision Tree Classifier: 0.9195567407108431\n",
      "The prediction of the Decision Tree Classifier: [1 1 1 ... 1 1 1]\n"
     ]
    }
   ],
   "source": [
    "dtcf=DecisionTreeClassifier()\n",
    "dtcf.fit(X_train,y_train)\n",
    "print(\"The accuracy of the Decision Tree Classifier:\",rfcf.score(X_test,y_test))\n",
    "print(\"The prediction of the Decision Tree Classifier:\",dtcf.predict(X_test))"
   ]
  },
  {
   "cell_type": "code",
   "execution_count": 6,
   "id": "a3239b73",
   "metadata": {},
   "outputs": [
    {
     "name": "stdout",
     "output_type": "stream",
     "text": [
      "The accuracy of the Logistic Regression: 0.963944076526858\n",
      "The prediction of the Logistic Regression: [1 1 1 ... 1 1 1]\n"
     ]
    }
   ],
   "source": [
    "lr=LogisticRegression()\n",
    "lr.fit(X_test,y_test)\n",
    "print(\"The accuracy of the Logistic Regression:\",lr.score(X_test,y_test))\n",
    "print(\"The prediction of the Logistic Regression:\",lr.predict(X_test))"
   ]
  },
  {
   "cell_type": "code",
   "execution_count": 7,
   "id": "e9c7b1c7",
   "metadata": {},
   "outputs": [
    {
     "name": "stdout",
     "output_type": "stream",
     "text": [
      "The accuracy of the Gaussian: 0.7461368653421634\n",
      "The prediction of the Gaussian: [1 1 0 ... 1 0 0]\n"
     ]
    }
   ],
   "source": [
    "nbc=GaussianNB()\n",
    "nbc.fit(X_test,y_test)\n",
    "print(\"The accuracy of the Gaussian:\",nbc.score(X_test,y_test))\n",
    "print(\"The prediction of the Gaussian:\",nbc.predict(X_test))"
   ]
  },
  {
   "cell_type": "code",
   "execution_count": 8,
   "id": "8e60d23e",
   "metadata": {},
   "outputs": [
    {
     "name": "stdout",
     "output_type": "stream",
     "text": [
      "The accuracy of the Decision Tree Classifier: 0.7461368653421634\n",
      "The prediction of the Decision Tree Classifier: [1 1 1 ... 1 1 1]\n"
     ]
    }
   ],
   "source": [
    "clf = DecisionTreeClassifier()\n",
    "clf_fit_result=clf.fit(X_test,y_test)\n",
    "print(\"The accuracy of the Decision Tree Classifier:\",nbc.score(X_test,y_test))\n",
    "print(\"The prediction of the Decision Tree Classifier:\",clf.predict(X_test))"
   ]
  },
  {
   "cell_type": "code",
   "execution_count": 9,
   "id": "bb010c6a",
   "metadata": {},
   "outputs": [
    {
     "name": "stdout",
     "output_type": "stream",
     "text": [
      "The accuracy of the KNeighbors Classifier: 0.7461368653421634\n",
      "The prediction of the KNeighbors Classifier: [1 1 1 ... 1 1 1]\n"
     ]
    }
   ],
   "source": [
    "knn = KNeighborsClassifier()\n",
    "knn.fit(X_test,y_test)\n",
    "print(\"The accuracy of the KNeighbors Classifier:\",nbc.score(X_test,y_test))\n",
    "print(\"The prediction of the KNeighbors Classifier:\",clf.predict(X_test))"
   ]
  },
  {
   "cell_type": "code",
   "execution_count": null,
   "id": "5c27f3d8",
   "metadata": {},
   "outputs": [],
   "source": []
  }
 ],
 "metadata": {
  "kernelspec": {
   "display_name": "Python 3 (ipykernel)",
   "language": "python",
   "name": "python3"
  },
  "language_info": {
   "codemirror_mode": {
    "name": "ipython",
    "version": 3
   },
   "file_extension": ".py",
   "mimetype": "text/x-python",
   "name": "python",
   "nbconvert_exporter": "python",
   "pygments_lexer": "ipython3",
   "version": "3.9.7"
  }
 },
 "nbformat": 4,
 "nbformat_minor": 5
}
