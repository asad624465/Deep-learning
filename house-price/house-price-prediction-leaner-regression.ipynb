{
 "cells": [
  {
   "cell_type": "markdown",
   "id": "224e0977",
   "metadata": {},
   "source": [
    "#added required library"
   ]
  },
  {
   "cell_type": "code",
   "execution_count": 2,
   "id": "8022fba1",
   "metadata": {},
   "outputs": [],
   "source": [
    "import numpy as np\n",
    "import matplotlib.pyplot as plt \n",
    "import pandas as pd"
   ]
  },
  {
   "cell_type": "code",
   "execution_count": 3,
   "id": "27ad3876",
   "metadata": {},
   "outputs": [],
   "source": [
    "dt=pd.read_csv('data_sample.csv');"
   ]
  },
  {
   "cell_type": "code",
   "execution_count": 4,
   "id": "8222a78d",
   "metadata": {},
   "outputs": [
    {
     "data": {
      "text/html": [
       "<div>\n",
       "<style scoped>\n",
       "    .dataframe tbody tr th:only-of-type {\n",
       "        vertical-align: middle;\n",
       "    }\n",
       "\n",
       "    .dataframe tbody tr th {\n",
       "        vertical-align: top;\n",
       "    }\n",
       "\n",
       "    .dataframe thead th {\n",
       "        text-align: right;\n",
       "    }\n",
       "</style>\n",
       "<table border=\"1\" class=\"dataframe\">\n",
       "  <thead>\n",
       "    <tr style=\"text-align: right;\">\n",
       "      <th></th>\n",
       "      <th>Id</th>\n",
       "      <th>SalePrice</th>\n",
       "    </tr>\n",
       "  </thead>\n",
       "  <tbody>\n",
       "    <tr>\n",
       "      <th>0</th>\n",
       "      <td>1461</td>\n",
       "      <td>169277.052498</td>\n",
       "    </tr>\n",
       "    <tr>\n",
       "      <th>1</th>\n",
       "      <td>1462</td>\n",
       "      <td>187758.393989</td>\n",
       "    </tr>\n",
       "    <tr>\n",
       "      <th>2</th>\n",
       "      <td>1463</td>\n",
       "      <td>183583.683570</td>\n",
       "    </tr>\n",
       "  </tbody>\n",
       "</table>\n",
       "</div>"
      ],
      "text/plain": [
       "     Id      SalePrice\n",
       "0  1461  169277.052498\n",
       "1  1462  187758.393989\n",
       "2  1463  183583.683570"
      ]
     },
     "execution_count": 4,
     "metadata": {},
     "output_type": "execute_result"
    }
   ],
   "source": [
    "dt.head(3)"
   ]
  },
  {
   "cell_type": "code",
   "execution_count": 5,
   "id": "8b182161",
   "metadata": {},
   "outputs": [
    {
     "data": {
      "text/plain": [
       "(1459, 2)"
      ]
     },
     "execution_count": 5,
     "metadata": {},
     "output_type": "execute_result"
    }
   ],
   "source": [
    "dt.shape"
   ]
  },
  {
   "cell_type": "code",
   "execution_count": 6,
   "id": "225fa2d0",
   "metadata": {},
   "outputs": [
    {
     "data": {
      "text/plain": [
       "Id           False\n",
       "SalePrice    False\n",
       "dtype: bool"
      ]
     },
     "execution_count": 6,
     "metadata": {},
     "output_type": "execute_result"
    }
   ],
   "source": [
    "dt.isnull().any()"
   ]
  },
  {
   "cell_type": "raw",
   "id": "f804de7f",
   "metadata": {},
   "source": [
    "#y=mx+c"
   ]
  },
  {
   "cell_type": "markdown",
   "id": "de30ff74",
   "metadata": {},
   "source": [
    "#y=mx+c"
   ]
  },
  {
   "cell_type": "code",
   "execution_count": 7,
   "id": "234522c9",
   "metadata": {},
   "outputs": [],
   "source": [
    "x=dt[['Id']]\n",
    "y=dt['SalePrice']"
   ]
  },
  {
   "cell_type": "code",
   "execution_count": 8,
   "id": "2bbb2a6f",
   "metadata": {},
   "outputs": [
    {
     "data": {
      "text/plain": [
       "(1459,)"
      ]
     },
     "execution_count": 8,
     "metadata": {},
     "output_type": "execute_result"
    }
   ],
   "source": [
    "y.shape"
   ]
  },
  {
   "cell_type": "markdown",
   "id": "0e82352d",
   "metadata": {},
   "source": [
    "# Visualization"
   ]
  },
  {
   "cell_type": "code",
   "execution_count": 9,
   "id": "0f3b6d55",
   "metadata": {},
   "outputs": [
    {
     "data": {
      "text/plain": [
       "Text(0.5, 1.0, 'Home Prices')"
      ]
     },
     "execution_count": 9,
     "metadata": {},
     "output_type": "execute_result"
    },
    {
     "data": {
      "image/png": "[encoded data removed]",
      "text/plain": [
       "<Figure size 432x288 with 1 Axes>"
      ]
     },
     "metadata": {
      "needs_background": "light"
     },
     "output_type": "display_data"
    }
   ],
   "source": [
    "plt.scatter(dt['Id'],dt['SalePrice'])\n",
    "plt.xlabel(\"area in square fit\")\n",
    "plt.ylabel(\"Price in taka\")\n",
    "plt.title(\"Home Prices\")"
   ]
  },
  {
   "cell_type": "code",
   "execution_count": 10,
   "id": "cd29d244",
   "metadata": {},
   "outputs": [],
   "source": [
    "from sklearn.model_selection import train_test_split"
   ]
  },
  {
   "cell_type": "code",
   "execution_count": 11,
   "id": "fa0a22d6",
   "metadata": {},
   "outputs": [],
   "source": [
    "x_train,x_test,y_train,y_test=train_test_split(x,y,test_size=.30,random_state=1)"
   ]
  },
  {
   "cell_type": "code",
   "execution_count": 12,
   "id": "cdb8d3e1",
   "metadata": {},
   "outputs": [
    {
     "data": {
      "text/html": [
       "<div>\n",
       "<style scoped>\n",
       "    .dataframe tbody tr th:only-of-type {\n",
       "        vertical-align: middle;\n",
       "    }\n",
       "\n",
       "    .dataframe tbody tr th {\n",
       "        vertical-align: top;\n",
       "    }\n",
       "\n",
       "    .dataframe thead th {\n",
       "        text-align: right;\n",
       "    }\n",
       "</style>\n",
       "<table border=\"1\" class=\"dataframe\">\n",
       "  <thead>\n",
       "    <tr style=\"text-align: right;\">\n",
       "      <th></th>\n",
       "      <th>Id</th>\n",
       "    </tr>\n",
       "  </thead>\n",
       "  <tbody>\n",
       "    <tr>\n",
       "      <th>1108</th>\n",
       "      <td>2569</td>\n",
       "    </tr>\n",
       "    <tr>\n",
       "      <th>111</th>\n",
       "      <td>1572</td>\n",
       "    </tr>\n",
       "    <tr>\n",
       "      <th>1273</th>\n",
       "      <td>2734</td>\n",
       "    </tr>\n",
       "    <tr>\n",
       "      <th>1147</th>\n",
       "      <td>2608</td>\n",
       "    </tr>\n",
       "    <tr>\n",
       "      <th>368</th>\n",
       "      <td>1829</td>\n",
       "    </tr>\n",
       "    <tr>\n",
       "      <th>...</th>\n",
       "      <td>...</td>\n",
       "    </tr>\n",
       "    <tr>\n",
       "      <th>250</th>\n",
       "      <td>1711</td>\n",
       "    </tr>\n",
       "    <tr>\n",
       "      <th>76</th>\n",
       "      <td>1537</td>\n",
       "    </tr>\n",
       "    <tr>\n",
       "      <th>228</th>\n",
       "      <td>1689</td>\n",
       "    </tr>\n",
       "    <tr>\n",
       "      <th>1333</th>\n",
       "      <td>2794</td>\n",
       "    </tr>\n",
       "    <tr>\n",
       "      <th>572</th>\n",
       "      <td>2033</td>\n",
       "    </tr>\n",
       "  </tbody>\n",
       "</table>\n",
       "<p>438 rows × 1 columns</p>\n",
       "</div>"
      ],
      "text/plain": [
       "        Id\n",
       "1108  2569\n",
       "111   1572\n",
       "1273  2734\n",
       "1147  2608\n",
       "368   1829\n",
       "...    ...\n",
       "250   1711\n",
       "76    1537\n",
       "228   1689\n",
       "1333  2794\n",
       "572   2033\n",
       "\n",
       "[438 rows x 1 columns]"
      ]
     },
     "execution_count": 12,
     "metadata": {},
     "output_type": "execute_result"
    }
   ],
   "source": [
    "x_test"
   ]
  },
  {
   "cell_type": "code",
   "execution_count": 13,
   "id": "322a849e",
   "metadata": {},
   "outputs": [],
   "source": [
    "from sklearn.linear_model import LinearRegression"
   ]
  },
  {
   "cell_type": "code",
   "execution_count": 14,
   "id": "23adfaad",
   "metadata": {},
   "outputs": [],
   "source": [
    "ln_reg=LinearRegression()"
   ]
  },
  {
   "cell_type": "code",
   "execution_count": 15,
   "id": "80ef5fb6",
   "metadata": {},
   "outputs": [
    {
     "data": {
      "text/plain": [
       "LinearRegression()"
      ]
     },
     "execution_count": 15,
     "metadata": {},
     "output_type": "execute_result"
    }
   ],
   "source": [
    "ln_reg.fit(x_train,y_train)"
   ]
  },
  {
   "cell_type": "code",
   "execution_count": 16,
   "id": "31d5f736",
   "metadata": {},
   "outputs": [
    {
     "data": {
      "text/plain": [
       "array([181387.14841288, 175482.05425086, 182364.42076667, 181618.14006014,\n",
       "       177004.22997768, 175043.76240734, 181505.60566788, 180711.94205935,\n",
       "       175760.42880012, 181215.38539312, 180273.65021583, 179586.5981368 ,\n",
       "       180480.95041209, 175653.81727061, 182086.04621741, 178526.4057045 ,\n",
       "       181896.5146094 , 180629.02198084, 177187.83872293, 178390.17986124,\n",
       "       180937.01084386, 176500.7866439 , 183294.31021847, 182009.04900166,\n",
       "       179456.29515629, 182091.96908016, 179651.74962705, 175298.4455056 ,\n",
       "       180871.8593536 , 181955.7432369 , 178822.54884201, 179835.35837231,\n",
       "       177300.37311519, 179023.92617552, 178005.19378247, 183235.08159096,\n",
       "       176032.88048663, 182097.89194291, 176423.78942815, 181114.69672637,\n",
       "       182240.04064892, 180942.93370661, 175363.59699585, 176293.48644764,\n",
       "       176625.16676166, 180605.33052984, 180261.80449033, 175138.52821134,\n",
       "       177087.15005618, 182986.32135545, 178253.95401798, 181138.38817737,\n",
       "       180303.26452958, 181535.21998164, 180865.93649085, 176388.25225165,\n",
       "       181801.7488054 , 179758.36115655, 175108.91389759, 180557.94762784,\n",
       "       175422.82562335, 176595.55244791, 180439.49037283, 177673.51346846,\n",
       "       180492.79613759, 180783.01641235, 177993.34805697, 180664.55915735,\n",
       "       180569.79335334, 177572.8248017 , 176844.31268342, 178609.325783  ,\n",
       "       179764.2840193 , 182234.11778617, 175529.43715286, 179035.77190102,\n",
       "       179118.69197952, 183329.84739497, 180812.6307261 , 179254.91782278,\n",
       "       179331.91503853, 174937.15087783, 181517.45139338, 176334.9464869 ,\n",
       "       178461.25421424, 178230.26256698, 179716.9011173 , 182299.26927642,\n",
       "       183252.85017921, 176530.40095765, 175458.36279985, 174842.38507383,\n",
       "       176406.0208399 , 182056.43190366, 180066.35001957, 180771.17068685,\n",
       "       181091.00527536, 179912.35558806, 180149.27009807, 178354.64268474,\n",
       "       176607.39817341, 175114.83676034, 177045.69001693, 180747.47923585,\n",
       "       182861.9412377 , 176145.41487889, 181778.0573544 , 175440.5942116 ,\n",
       "       181369.37982463, 181564.83429539, 176222.41209464, 178816.62597926,\n",
       "       178852.16315576, 178011.11664522, 179604.36672505, 180925.16511836,\n",
       "       183069.24143396, 178638.94009675, 175825.58029037, 175179.98825059,\n",
       "       176613.32103616, 177241.14448769, 176725.85542841, 176352.71507515,\n",
       "       181831.36311915, 179373.37507779, 179556.98382304, 181961.66609965,\n",
       "       178798.85739101, 175464.28566261, 179722.82398005, 179474.06374454,\n",
       "       180013.04425482, 175002.30236808, 181168.00249112, 183211.39013996,\n",
       "       179426.68084254, 183187.69868896, 179367.45221504, 180042.65856857,\n",
       "       178455.33135149, 177880.81366472, 180392.10747083, 178952.85182252,\n",
       "       175345.8284076 , 182358.49790392, 177774.20213521, 179083.15480302,\n",
       "       175872.96319237, 178283.56833174, 181647.75437389, 175813.73456487,\n",
       "       179047.61762652, 177324.06456619, 177945.96515497, 178656.708685  ,\n",
       "       178603.40292025, 181339.76551088, 182755.32970819, 180694.1734711 ,\n",
       "       179243.07209728, 182281.50068817, 181120.61958912, 178751.47448901,\n",
       "       175381.3655841 , 179391.14366604, 179444.44943079, 182121.58339391,\n",
       "       177199.68444844, 181600.37147189, 177247.06735044, 180611.25339259,\n",
       "       178988.38899902, 175209.60256434, 178698.16872425, 181866.90029565,\n",
       "       180119.65578432, 179438.52656804, 182417.72653143, 175156.29679959,\n",
       "       175665.66299611, 178206.57111598, 183383.15315972, 177857.12221372,\n",
       "       183229.15872821, 177442.5218212 , 175973.65185913, 179728.7468428 ,\n",
       "       181594.44860914, 177904.50511572, 178064.42240998, 175766.35166287,\n",
       "       175949.96040813, 178336.87409649, 176192.79778089, 177655.74488021,\n",
       "       175505.74570186, 183045.54998296, 179012.08045002, 178301.33691999,\n",
       "       178615.24864575, 181327.91978538, 181813.5945309 , 175268.83119185,\n",
       "       181819.51739365, 176358.6379379 , 179266.76354828, 178544.17429275,\n",
       "       178550.0971555 , 183406.84461072, 177448.44468395, 181286.45974612,\n",
       "       175339.90554485, 183021.85853195, 178881.77746951, 183430.53606172,\n",
       "       181049.54523611, 183424.61319897, 181487.83707963, 180374.33888258,\n",
       "       179290.45499928, 181304.22833437, 176411.94370265, 180178.88441182,\n",
       "       181410.83986388, 175896.65464337, 176554.09240866, 181179.84821662,\n",
       "       179888.66413706, 181529.29711889, 182109.73766841, 178117.72817473,\n",
       "       175535.36001561, 181416.76272663, 179432.60370529, 183282.46449297,\n",
       "       176015.11189838, 180777.0935496 , 175126.68248584, 175926.26895713,\n",
       "       180723.78778485, 177093.07291893, 183033.70425745, 176654.78107541,\n",
       "       182334.80645292, 181712.90586414, 179183.84346978, 182044.58617816,\n",
       "       180954.77943211, 179112.76911677, 177110.84150718, 175612.35723136,\n",
       "       181239.07684412, 175997.34331013, 180018.96711757, 182974.47562995,\n",
       "       183312.07880672, 175304.36836835, 176808.77550692, 177934.11942947,\n",
       "       182844.17264945, 182518.41519818, 180806.70786335, 178265.79974348,\n",
       "       183341.69312047, 181724.75158964, 180095.96433332, 178058.49954722,\n",
       "       182311.11500192, 176666.62680091, 181357.53409913, 174895.69083858,\n",
       "       176885.77272267, 175256.98546635, 177211.53017394, 177335.91029169,\n",
       "       181997.20327616, 180842.24503985, 179740.5925683 , 175790.04311387,\n",
       "       175102.99103484, 178218.41684148, 175405.0570351 , 180167.03868632,\n",
       "       182423.64939418, 178449.40848874, 177709.05064496, 176483.01805565,\n",
       "       183116.62433596, 175600.51150586, 181588.52574639, 182216.34919792,\n",
       "       179308.22358753, 178366.48841024, 176098.03197688, 175624.20295686,\n",
       "       177027.92142868, 182020.89472716, 178496.79139075, 176589.62958516,\n",
       "       182731.63825719, 179408.91225429, 181837.2859819 , 178674.47727325,\n",
       "       177999.27091972, 183158.08437521, 175979.57472188, 178147.34248848,\n",
       "       179959.73849006, 180267.72735308, 179675.44107805, 177507.67331145,\n",
       "       176749.54687941, 177957.81088047, 180913.31939286, 178787.01166551,\n",
       "       181452.29990313, 175168.14252509, 177762.35640971, 179705.0553918 ,\n",
       "       176240.18068289, 182263.73209992, 179663.59535255, 179811.66692131,\n",
       "       176779.16119317, 174984.53377983, 177667.59060571, 181736.59731514,\n",
       "       175570.89719211, 180546.10190234, 177466.2132722 , 179657.6724898 ,\n",
       "       179622.1353133 , 177744.58782146, 180700.09633385, 177951.88801772,\n",
       "       175357.6741331 , 178846.24029301, 179710.97825455, 176376.40652615,\n",
       "       182512.49233543, 178242.10829248, 177134.53295818, 175701.20017262,\n",
       "       176814.69836967, 180706.0191966 , 179177.92060703, 175286.5997801 ,\n",
       "       181197.61680487, 179237.14923453, 175031.91668184, 182927.09272795,\n",
       "       177726.81923321, 177549.1333507 , 182198.58060967, 178514.559979  ,\n",
       "       174860.15366208, 180155.19296082, 179219.38064628, 182690.17821794,\n",
       "       177560.9790762 , 176619.24389891, 182305.19213917, 176103.95483963,\n",
       "       181659.60009939, 176897.61844817, 182814.55833569, 179503.67805829,\n",
       "       176021.03476113, 180516.48758859, 181221.30825587, 176660.70393816,\n",
       "       182269.65496267, 180836.3221771 , 174871.99938758, 176252.02640839,\n",
       "       177217.45303669, 179805.74405856, 181884.6688839 , 181629.98578564,\n",
       "       177691.28205671, 182808.63547294, 181428.60845213, 178473.09993974,\n",
       "       179906.43272531, 176453.4037419 , 181393.07127563, 177347.75601719,\n",
       "       180960.70229486, 183205.46727721, 178567.86574375, 178561.942881  ,\n",
       "       175191.83397609, 177276.68166419, 178579.71146925, 176690.31825191,\n",
       "       181073.23668711, 183371.30743422, 178135.49676298, 182601.33527668,\n",
       "       181766.2116289 , 182885.6326887 , 179077.23194027, 178099.95958648,\n",
       "       175736.73734912, 180285.49594133, 181932.0517859 , 181150.23390287,\n",
       "       182850.0955122 , 175938.11468263, 175944.03754538, 182654.64104144,\n",
       "       180581.63907884, 176257.94927114, 182482.87802168, 177910.42797847,\n",
       "       182696.10108069, 183039.6271202 , 176903.54131092, 175067.45385834,\n",
       "       180522.41045134, 177383.29319369, 175410.97989785, 180232.19017658,\n",
       "       182287.42355092, 177401.06178194, 181760.28876615, 181730.67445239,\n",
       "       181772.13449165, 183223.23586546, 176056.57193763, 175316.21409385,\n",
       "       180084.11860782, 176305.33217314, 175274.7540546 , 176175.02919264,\n",
       "       182719.79253169, 178212.49397873])"
      ]
     },
     "execution_count": 16,
     "metadata": {},
     "output_type": "execute_result"
    }
   ],
   "source": [
    "ln_reg.predict(x_test)"
   ]
  },
  {
   "cell_type": "code",
   "execution_count": 17,
   "id": "d47e19ee",
   "metadata": {},
   "outputs": [],
   "source": [
    "#ln_reg.predict([['6']])"
   ]
  },
  {
   "cell_type": "code",
   "execution_count": 19,
   "id": "e32a8b7d",
   "metadata": {},
   "outputs": [
    {
     "name": "stdout",
     "output_type": "stream",
     "text": [
      "-0.23473083491831748 %\n"
     ]
    }
   ],
   "source": [
    "acc=ln_reg.score(x_test,y_test)\n",
    "print(acc*100,'%')"
   ]
  },
  {
   "cell_type": "code",
   "execution_count": 21,
   "id": "10fff132",
   "metadata": {},
   "outputs": [
    {
     "name": "stderr",
     "output_type": "stream",
     "text": [
      "D:\\Users\\HP\\anaconda3\\lib\\site-packages\\sklearn\\utils\\validation.py:63: FutureWarning: Arrays of bytes/strings is being converted to decimal numbers if dtype='numeric'. This behavior is deprecated in 0.24 and will be removed in 1.1 (renaming of 0.26). Please convert your data to numeric values explicitly instead.\n",
      "  return f(*args, **kwargs)\n"
     ]
    },
    {
     "data": {
      "text/plain": [
       "array([166526.68577244])"
      ]
     },
     "execution_count": 21,
     "metadata": {},
     "output_type": "execute_result"
    }
   ],
   "source": [
    "ln_reg.predict([['60']])"
   ]
  },
  {
   "cell_type": "code",
   "execution_count": null,
   "id": "9742c8ef",
   "metadata": {},
   "outputs": [],
   "source": []
  }
 ],
 "metadata": {
  "kernelspec": {
   "display_name": "Python 3 (ipykernel)",
   "language": "python",
   "name": "python3"
  },
  "language_info": {
   "codemirror_mode": {
    "name": "ipython",
    "version": 3
   },
   "file_extension": ".py",
   "mimetype": "text/x-python",
   "name": "python",
   "nbconvert_exporter": "python",
   "pygments_lexer": "ipython3",
   "version": "3.9.7"
  }
 },
 "nbformat": 4,
 "nbformat_minor": 5
}
